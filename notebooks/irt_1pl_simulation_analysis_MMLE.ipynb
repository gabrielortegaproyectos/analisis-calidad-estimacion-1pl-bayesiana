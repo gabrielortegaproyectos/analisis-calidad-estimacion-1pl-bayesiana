{
 "cells": [
  {
   "cell_type": "markdown",
   "id": "b7877fda",
   "metadata": {},
   "source": [
    "# Simulación y análisis bayesiano del modelo IRT 1PL\n",
    "\n",
    "Este notebook simula dificultades de ítems y habilidades de personas, genera respuestas bajo el modelo 1PL, y compara estimaciones clásicas y bayesianas. Se sigue una estructura similar al análisis de faltas NBA, pero con datos simulados para ilustrar el proceso completo."
   ]
  },
  {
   "cell_type": "code",
   "execution_count": null,
   "id": "8321455b",
   "metadata": {},
   "outputs": [],
   "source": [
    "# Importar librerías y configurar entorno\n",
    "import os\n",
    "import arviz as az\n",
    "import matplotlib.pyplot as plt\n",
    "import numpy as np\n",
    "import pandas as pd\n",
    "import pymc as pm\n",
    "from sklearn.metrics import r2_score\n",
    "\n",
    "\n",
    "RANDOM_SEED = 8927\n",
    "rng = np.random.default_rng(RANDOM_SEED)\n",
    "az.style.use(\"arviz-darkgrid\")"
   ]
  },
  {
   "cell_type": "markdown",
   "id": "4bb273f6",
   "metadata": {},
   "source": [
    "## 1. Simulación de parámetros\n",
    "\n",
    "Generamos 80 dificultades de ítems y 1000 habilidades de personas, ambos de una normal estándar."
   ]
  },
  {
   "cell_type": "code",
   "execution_count": 3,
   "id": "2486d1df",
   "metadata": {},
   "outputs": [],
   "source": [
    "# Parámetros de simulación\n",
    "n_items = 80\n",
    "n_persons = 1000\n",
    "\n",
    "# Dificultades de los ítems (b)\n",
    "item_difficulties = rng.normal(0, 1, n_items)\n",
    "\n",
    "# Habilidades de las personas (theta)\n",
    "person_abilities = rng.normal(0, 1, n_persons)"
   ]
  },
  {
   "cell_type": "markdown",
   "id": "ad9e15fc",
   "metadata": {},
   "source": [
    "## 2. Generación de predicciones de dificultad con R² de discriminación 0.5\n",
    "\n",
    "Simulamos predicciones correlacionadas con las dificultades verdaderas, usando una correlación de 0.5."
   ]
  },
  {
   "cell_type": "code",
   "execution_count": 3,
   "id": "106c47fe",
   "metadata": {},
   "outputs": [
    {
     "name": "stdout",
     "output_type": "stream",
     "text": [
      "R²: -0.27337054164671537\n"
     ]
    }
   ],
   "source": [
    "# Generar predicciones correlacionadas (R² ~ 0.5)\n",
    "r = 0.5\n",
    "sd_true = 1\n",
    "sd_pred = 1\n",
    "cov = r * sd_true * sd_pred\n",
    "mean = [0, 0]\n",
    "cov_matrix = [[sd_true**2, cov], [cov, sd_pred**2]]\n",
    "sim = rng.multivariate_normal(mean, cov_matrix, n_items)\n",
    "true_b = sim[:, 0]\n",
    "pred_b = sim[:, 1]\n",
    "print(\"R²:\", r2_score(true_b, pred_b))"
   ]
  },
  {
   "cell_type": "markdown",
   "id": "174f95f0",
   "metadata": {},
   "source": [
    "## 3. Simulación de respuestas\n",
    "\n",
    "Generamos una matriz de respuestas binarias usando el modelo 1PL:  \n",
    "P(respuesta correcta) = sigmoid(theta - b)"
   ]
  },
  {
   "cell_type": "code",
   "execution_count": 4,
   "id": "80d3bf28",
   "metadata": {},
   "outputs": [
    {
     "data": {
      "text/html": [
       "<div>\n",
       "<style scoped>\n",
       "    .dataframe tbody tr th:only-of-type {\n",
       "        vertical-align: middle;\n",
       "    }\n",
       "\n",
       "    .dataframe tbody tr th {\n",
       "        vertical-align: top;\n",
       "    }\n",
       "\n",
       "    .dataframe thead th {\n",
       "        text-align: right;\n",
       "    }\n",
       "</style>\n",
       "<table border=\"1\" class=\"dataframe\">\n",
       "  <thead>\n",
       "    <tr style=\"text-align: right;\">\n",
       "      <th></th>\n",
       "      <th>Item_1</th>\n",
       "      <th>Item_2</th>\n",
       "      <th>Item_3</th>\n",
       "      <th>Item_4</th>\n",
       "      <th>Item_5</th>\n",
       "      <th>Item_6</th>\n",
       "      <th>Item_7</th>\n",
       "      <th>Item_8</th>\n",
       "      <th>Item_9</th>\n",
       "      <th>Item_10</th>\n",
       "      <th>...</th>\n",
       "      <th>Item_71</th>\n",
       "      <th>Item_72</th>\n",
       "      <th>Item_73</th>\n",
       "      <th>Item_74</th>\n",
       "      <th>Item_75</th>\n",
       "      <th>Item_76</th>\n",
       "      <th>Item_77</th>\n",
       "      <th>Item_78</th>\n",
       "      <th>Item_79</th>\n",
       "      <th>Item_80</th>\n",
       "    </tr>\n",
       "  </thead>\n",
       "  <tbody>\n",
       "    <tr>\n",
       "      <th>0</th>\n",
       "      <td>1.0</td>\n",
       "      <td>0.0</td>\n",
       "      <td>1.0</td>\n",
       "      <td>0.0</td>\n",
       "      <td>1.0</td>\n",
       "      <td>1.0</td>\n",
       "      <td>1.0</td>\n",
       "      <td>1.0</td>\n",
       "      <td>1.0</td>\n",
       "      <td>1.0</td>\n",
       "      <td>...</td>\n",
       "      <td>1.0</td>\n",
       "      <td>0.0</td>\n",
       "      <td>1.0</td>\n",
       "      <td>0.0</td>\n",
       "      <td>0.0</td>\n",
       "      <td>0.0</td>\n",
       "      <td>0.0</td>\n",
       "      <td>0.0</td>\n",
       "      <td>1.0</td>\n",
       "      <td>1.0</td>\n",
       "    </tr>\n",
       "    <tr>\n",
       "      <th>1</th>\n",
       "      <td>0.0</td>\n",
       "      <td>0.0</td>\n",
       "      <td>1.0</td>\n",
       "      <td>1.0</td>\n",
       "      <td>0.0</td>\n",
       "      <td>1.0</td>\n",
       "      <td>1.0</td>\n",
       "      <td>1.0</td>\n",
       "      <td>1.0</td>\n",
       "      <td>1.0</td>\n",
       "      <td>...</td>\n",
       "      <td>0.0</td>\n",
       "      <td>1.0</td>\n",
       "      <td>1.0</td>\n",
       "      <td>1.0</td>\n",
       "      <td>1.0</td>\n",
       "      <td>1.0</td>\n",
       "      <td>1.0</td>\n",
       "      <td>1.0</td>\n",
       "      <td>0.0</td>\n",
       "      <td>1.0</td>\n",
       "    </tr>\n",
       "    <tr>\n",
       "      <th>2</th>\n",
       "      <td>0.0</td>\n",
       "      <td>0.0</td>\n",
       "      <td>0.0</td>\n",
       "      <td>0.0</td>\n",
       "      <td>0.0</td>\n",
       "      <td>0.0</td>\n",
       "      <td>0.0</td>\n",
       "      <td>1.0</td>\n",
       "      <td>0.0</td>\n",
       "      <td>0.0</td>\n",
       "      <td>...</td>\n",
       "      <td>0.0</td>\n",
       "      <td>0.0</td>\n",
       "      <td>0.0</td>\n",
       "      <td>1.0</td>\n",
       "      <td>1.0</td>\n",
       "      <td>0.0</td>\n",
       "      <td>0.0</td>\n",
       "      <td>0.0</td>\n",
       "      <td>0.0</td>\n",
       "      <td>1.0</td>\n",
       "    </tr>\n",
       "    <tr>\n",
       "      <th>3</th>\n",
       "      <td>0.0</td>\n",
       "      <td>0.0</td>\n",
       "      <td>0.0</td>\n",
       "      <td>0.0</td>\n",
       "      <td>0.0</td>\n",
       "      <td>0.0</td>\n",
       "      <td>0.0</td>\n",
       "      <td>1.0</td>\n",
       "      <td>0.0</td>\n",
       "      <td>1.0</td>\n",
       "      <td>...</td>\n",
       "      <td>1.0</td>\n",
       "      <td>0.0</td>\n",
       "      <td>0.0</td>\n",
       "      <td>0.0</td>\n",
       "      <td>0.0</td>\n",
       "      <td>1.0</td>\n",
       "      <td>0.0</td>\n",
       "      <td>0.0</td>\n",
       "      <td>1.0</td>\n",
       "      <td>0.0</td>\n",
       "    </tr>\n",
       "    <tr>\n",
       "      <th>4</th>\n",
       "      <td>0.0</td>\n",
       "      <td>1.0</td>\n",
       "      <td>1.0</td>\n",
       "      <td>1.0</td>\n",
       "      <td>1.0</td>\n",
       "      <td>1.0</td>\n",
       "      <td>1.0</td>\n",
       "      <td>1.0</td>\n",
       "      <td>1.0</td>\n",
       "      <td>1.0</td>\n",
       "      <td>...</td>\n",
       "      <td>1.0</td>\n",
       "      <td>1.0</td>\n",
       "      <td>1.0</td>\n",
       "      <td>1.0</td>\n",
       "      <td>1.0</td>\n",
       "      <td>1.0</td>\n",
       "      <td>1.0</td>\n",
       "      <td>1.0</td>\n",
       "      <td>1.0</td>\n",
       "      <td>1.0</td>\n",
       "    </tr>\n",
       "  </tbody>\n",
       "</table>\n",
       "<p>5 rows × 80 columns</p>\n",
       "</div>"
      ],
      "text/plain": [
       "   Item_1  Item_2  Item_3  Item_4  Item_5  Item_6  Item_7  Item_8  Item_9  \\\n",
       "0     1.0     0.0     1.0     0.0     1.0     1.0     1.0     1.0     1.0   \n",
       "1     0.0     0.0     1.0     1.0     0.0     1.0     1.0     1.0     1.0   \n",
       "2     0.0     0.0     0.0     0.0     0.0     0.0     0.0     1.0     0.0   \n",
       "3     0.0     0.0     0.0     0.0     0.0     0.0     0.0     1.0     0.0   \n",
       "4     0.0     1.0     1.0     1.0     1.0     1.0     1.0     1.0     1.0   \n",
       "\n",
       "   Item_10  ...  Item_71  Item_72  Item_73  Item_74  Item_75  Item_76  \\\n",
       "0      1.0  ...      1.0      0.0      1.0      0.0      0.0      0.0   \n",
       "1      1.0  ...      0.0      1.0      1.0      1.0      1.0      1.0   \n",
       "2      0.0  ...      0.0      0.0      0.0      1.0      1.0      0.0   \n",
       "3      1.0  ...      1.0      0.0      0.0      0.0      0.0      1.0   \n",
       "4      1.0  ...      1.0      1.0      1.0      1.0      1.0      1.0   \n",
       "\n",
       "   Item_77  Item_78  Item_79  Item_80  \n",
       "0      0.0      0.0      1.0      1.0  \n",
       "1      1.0      1.0      0.0      1.0  \n",
       "2      0.0      0.0      0.0      1.0  \n",
       "3      0.0      0.0      1.0      0.0  \n",
       "4      1.0      1.0      1.0      1.0  \n",
       "\n",
       "[5 rows x 80 columns]"
      ]
     },
     "execution_count": 4,
     "metadata": {},
     "output_type": "execute_result"
    }
   ],
   "source": [
    "# Simulación de respuestas\n",
    "def sigmoid(x):\n",
    "    return 1 / (1 + np.exp(-x))\n",
    "\n",
    "responses = np.zeros((n_persons, n_items))\n",
    "for i, theta in enumerate(person_abilities):\n",
    "    p = sigmoid(theta - item_difficulties)\n",
    "    responses[i, :] = rng.binomial(1, p)\n",
    "responses_df = pd.DataFrame(responses, columns=[f\"Item_{j+1}\" for j in range(n_items)])\n",
    "\n",
    "responses_df.head()"
   ]
  },
  {
   "cell_type": "markdown",
   "id": "8a72bfbf",
   "metadata": {},
   "source": [
    "## 4. Estimación clásica del modelo 1PL\n",
    "\n",
    "Estimamos las dificultades de los ítems usando máxima verosimilitud."
   ]
  },
  {
   "cell_type": "code",
   "execution_count": 11,
   "id": "bd063bcb",
   "metadata": {},
   "outputs": [
    {
     "name": "stdout",
     "output_type": "stream",
     "text": [
      "Shape matriz de respuestas (personas, items): (80, 1000)\n",
      "Primeras 5 dificultades estimadas: [-0.21345446  1.27763033 -0.59609861  0.68356688  1.08115271]\n"
     ]
    }
   ],
   "source": [
    "from girth import rasch_mml\n",
    "\n",
    "# Adaptación: usar el DataFrame responses_df creado previamente\n",
    "# responses_df: filas = personas, columnas = ítems (0/1)\n",
    "X = responses_df.to_numpy().astype(int).T\n",
    "print(f\"Shape matriz de respuestas (personas, items): {X.shape}\")\n",
    "\n",
    "# Estimación Rasch (MMLE)\n",
    "result = rasch_mml(X)\n",
    "delta_hat = result['Difficulty']  # dificultades estimadas (pueden venir centradas a media ~0)\n",
    "\n",
    "print(\"Primeras 5 dificultades estimadas:\", delta_hat[:5])"
   ]
  },
  {
   "cell_type": "code",
   "execution_count": 12,
   "id": "7af5ed44",
   "metadata": {},
   "outputs": [
    {
     "name": "stdout",
     "output_type": "stream",
     "text": [
      "(80,)\n"
     ]
    }
   ],
   "source": [
    "print(delta_hat.shape)"
   ]
  },
  {
   "cell_type": "code",
   "execution_count": 13,
   "id": "90dfa4e4",
   "metadata": {},
   "outputs": [
    {
     "name": "stdout",
     "output_type": "stream",
     "text": [
      "(80,)\n"
     ]
    }
   ],
   "source": [
    "print(item_difficulties.shape)"
   ]
  },
  {
   "cell_type": "code",
   "execution_count": 14,
   "id": "257e9436",
   "metadata": {},
   "outputs": [
    {
     "name": "stdout",
     "output_type": "stream",
     "text": [
      "Correlación MLE vs. Verdadero: 0.9959598403392336\n"
     ]
    }
   ],
   "source": [
    "from sklearn.metrics import r2_score\n",
    "\n",
    "print(\"Correlación MLE vs. Verdadero:\", np.corrcoef(delta_hat, item_difficulties)[0,1])"
   ]
  },
  {
   "cell_type": "code",
   "execution_count": null,
   "id": "2caa83a9",
   "metadata": {},
   "outputs": [],
   "source": []
  },
  {
   "cell_type": "code",
   "execution_count": null,
   "id": "d91413f7",
   "metadata": {},
   "outputs": [
    {
     "name": "stdout",
     "output_type": "stream",
     "text": [
      "Correlación MLE vs. Verdadero: 0.9966234308309515\n",
      "Coeficiente de determinación (R²) de pred_b vs. true_b: -0.2734\n"
     ]
    }
   ],
   "source": [
    "\n"
   ]
  },
  {
   "cell_type": "code",
   "execution_count": 15,
   "id": "9ee12325",
   "metadata": {},
   "outputs": [
    {
     "name": "stdout",
     "output_type": "stream",
     "text": [
      "Coeficiente de determinación (R²) de MLE: 0.9929\n"
     ]
    }
   ],
   "source": [
    "print(f\"Coeficiente de determinación (R²) de MLE: {r2_score(mle_b, item_difficulties):.4f}\")"
   ]
  },
  {
   "cell_type": "markdown",
   "id": "965aada1",
   "metadata": {},
   "source": [
    "## 5. Modelo bayesiano 1PL con coordenadas\n",
    "\n",
    "Definimos el modelo bayesiano 1PL usando coordenadas para ítems y personas, y visualizamos su estructura."
   ]
  },
  {
   "cell_type": "code",
   "execution_count": 6,
   "id": "6999e71e",
   "metadata": {},
   "outputs": [],
   "source": [
    "# Definir coordenadas para el modelo bayesiano\n",
    "coords = {\n",
    "    \"person\": np.arange(n_persons),\n",
    "    \"item\": np.arange(n_items)\n",
    "}\n",
    "# Estimación Bayesiana con PyMC3\n",
    "with pm.Model(coords=coords) as irt_1pl_coords:\n",
    "    theta = pm.Normal(\"theta\", mu=0, sigma=1, dims=\"person\")\n",
    "    b = pm.Normal(\"b\", mu=0, sigma=1, dims=\"item\")\n",
    "    p = pm.Deterministic(\"p\", pm.math.sigmoid(theta[:, None] - b[None, :]))\n",
    "    responses_obs = pm.Bernoulli(\"responses\", p=p, observed=responses)\n"
   ]
  },
  {
   "cell_type": "code",
   "execution_count": 7,
   "id": "23fd73ff",
   "metadata": {},
   "outputs": [
    {
     "data": {
      "image/svg+xml": [
       "<?xml version=\"1.0\" encoding=\"UTF-8\" standalone=\"no\"?>\n",
       "<!DOCTYPE svg PUBLIC \"-//W3C//DTD SVG 1.1//EN\"\n",
       " \"http://www.w3.org/Graphics/SVG/1.1/DTD/svg11.dtd\">\n",
       "<!-- Generated by graphviz version 13.1.0 (0)\n",
       " -->\n",
       "<!-- Pages: 1 -->\n",
       "<svg width=\"261pt\" height=\"379pt\"\n",
       " viewBox=\"0.00 0.00 261.00 379.00\" xmlns=\"http://www.w3.org/2000/svg\" xmlns:xlink=\"http://www.w3.org/1999/xlink\">\n",
       "<g id=\"graph0\" class=\"graph\" transform=\"scale(1 1) rotate(0) translate(4 375.25)\">\n",
       "<polygon fill=\"white\" stroke=\"none\" points=\"-4,4 -4,-375.25 257,-375.25 257,4 -4,4\"/>\n",
       "<g id=\"clust1\" class=\"cluster\">\n",
       "<title>clusterperson (1000)</title>\n",
       "<path fill=\"none\" stroke=\"black\" d=\"M20,-237.5C20,-237.5 111,-237.5 111,-237.5 117,-237.5 123,-243.5 123,-249.5 123,-249.5 123,-351.25 123,-351.25 123,-357.25 117,-363.25 111,-363.25 111,-363.25 20,-363.25 20,-363.25 14,-363.25 8,-357.25 8,-351.25 8,-351.25 8,-249.5 8,-249.5 8,-243.5 14,-237.5 20,-237.5\"/>\n",
       "<text xml:space=\"preserve\" text-anchor=\"middle\" x=\"65.12\" y=\"-245.45\" font-family=\"Times,serif\" font-size=\"14.00\">person (1000)</text>\n",
       "</g>\n",
       "<g id=\"clust2\" class=\"cluster\">\n",
       "<title>clusteritem (80)</title>\n",
       "<path fill=\"none\" stroke=\"black\" d=\"M143,-237.5C143,-237.5 233,-237.5 233,-237.5 239,-237.5 245,-243.5 245,-249.5 245,-249.5 245,-351.25 245,-351.25 245,-357.25 239,-363.25 233,-363.25 233,-363.25 143,-363.25 143,-363.25 137,-363.25 131,-357.25 131,-351.25 131,-351.25 131,-249.5 131,-249.5 131,-243.5 137,-237.5 143,-237.5\"/>\n",
       "<text xml:space=\"preserve\" text-anchor=\"middle\" x=\"204.38\" y=\"-245.45\" font-family=\"Times,serif\" font-size=\"14.00\">item (80)</text>\n",
       "</g>\n",
       "<g id=\"clust3\" class=\"cluster\">\n",
       "<title>cluster1000 x 80</title>\n",
       "<path fill=\"none\" stroke=\"black\" d=\"M65,-8C65,-8 181,-8 181,-8 187,-8 193,-14 193,-20 193,-20 193,-217.5 193,-217.5 193,-223.5 187,-229.5 181,-229.5 181,-229.5 65,-229.5 65,-229.5 59,-229.5 53,-223.5 53,-217.5 53,-217.5 53,-20 53,-20 53,-14 59,-8 65,-8\"/>\n",
       "<text xml:space=\"preserve\" text-anchor=\"middle\" x=\"149.38\" y=\"-15.95\" font-family=\"Times,serif\" font-size=\"14.00\">1000 x 80</text>\n",
       "</g>\n",
       "<!-- theta -->\n",
       "<g id=\"node1\" class=\"node\">\n",
       "<title>theta</title>\n",
       "<ellipse fill=\"none\" stroke=\"black\" cx=\"66\" cy=\"-313\" rx=\"48.97\" ry=\"42.25\"/>\n",
       "<text xml:space=\"preserve\" text-anchor=\"middle\" x=\"66\" y=\"-325.57\" font-family=\"Times,serif\" font-size=\"14.00\">theta</text>\n",
       "<text xml:space=\"preserve\" text-anchor=\"middle\" x=\"66\" y=\"-308.32\" font-family=\"Times,serif\" font-size=\"14.00\">~</text>\n",
       "<text xml:space=\"preserve\" text-anchor=\"middle\" x=\"66\" y=\"-291.07\" font-family=\"Times,serif\" font-size=\"14.00\">Normal</text>\n",
       "</g>\n",
       "<!-- p -->\n",
       "<g id=\"node3\" class=\"node\">\n",
       "<title>p</title>\n",
       "<polygon fill=\"none\" stroke=\"black\" points=\"179.75,-221.5 66.25,-221.5 66.25,-161.75 179.75,-161.75 179.75,-221.5\"/>\n",
       "<text xml:space=\"preserve\" text-anchor=\"middle\" x=\"123\" y=\"-204.2\" font-family=\"Times,serif\" font-size=\"14.00\">p</text>\n",
       "<text xml:space=\"preserve\" text-anchor=\"middle\" x=\"123\" y=\"-186.95\" font-family=\"Times,serif\" font-size=\"14.00\">~</text>\n",
       "<text xml:space=\"preserve\" text-anchor=\"middle\" x=\"123\" y=\"-169.7\" font-family=\"Times,serif\" font-size=\"14.00\">Deterministic</text>\n",
       "</g>\n",
       "<!-- theta&#45;&gt;p -->\n",
       "<g id=\"edge1\" class=\"edge\">\n",
       "<title>theta&#45;&gt;p</title>\n",
       "<path fill=\"none\" stroke=\"black\" d=\"M84.35,-273.57C90.67,-260.34 97.75,-245.51 104.11,-232.19\"/>\n",
       "<polygon fill=\"black\" stroke=\"black\" points=\"107.22,-233.79 108.37,-223.26 100.91,-230.77 107.22,-233.79\"/>\n",
       "</g>\n",
       "<!-- b -->\n",
       "<g id=\"node2\" class=\"node\">\n",
       "<title>b</title>\n",
       "<ellipse fill=\"none\" stroke=\"black\" cx=\"188\" cy=\"-313\" rx=\"48.97\" ry=\"42.25\"/>\n",
       "<text xml:space=\"preserve\" text-anchor=\"middle\" x=\"188\" y=\"-325.57\" font-family=\"Times,serif\" font-size=\"14.00\">b</text>\n",
       "<text xml:space=\"preserve\" text-anchor=\"middle\" x=\"188\" y=\"-308.32\" font-family=\"Times,serif\" font-size=\"14.00\">~</text>\n",
       "<text xml:space=\"preserve\" text-anchor=\"middle\" x=\"188\" y=\"-291.07\" font-family=\"Times,serif\" font-size=\"14.00\">Normal</text>\n",
       "</g>\n",
       "<!-- b&#45;&gt;p -->\n",
       "<g id=\"edge2\" class=\"edge\">\n",
       "<title>b&#45;&gt;p</title>\n",
       "<path fill=\"none\" stroke=\"black\" d=\"M167.43,-274.23C160.08,-260.73 151.79,-245.49 144.37,-231.87\"/>\n",
       "<polygon fill=\"black\" stroke=\"black\" points=\"147.48,-230.26 139.62,-223.16 141.33,-233.61 147.48,-230.26\"/>\n",
       "</g>\n",
       "<!-- responses -->\n",
       "<g id=\"node4\" class=\"node\">\n",
       "<title>responses</title>\n",
       "<ellipse fill=\"lightgrey\" stroke=\"black\" cx=\"123\" cy=\"-83.5\" rx=\"62.23\" ry=\"42.25\"/>\n",
       "<text xml:space=\"preserve\" text-anchor=\"middle\" x=\"123\" y=\"-96.07\" font-family=\"Times,serif\" font-size=\"14.00\">responses</text>\n",
       "<text xml:space=\"preserve\" text-anchor=\"middle\" x=\"123\" y=\"-78.82\" font-family=\"Times,serif\" font-size=\"14.00\">~</text>\n",
       "<text xml:space=\"preserve\" text-anchor=\"middle\" x=\"123\" y=\"-61.57\" font-family=\"Times,serif\" font-size=\"14.00\">Bernoulli</text>\n",
       "</g>\n",
       "<!-- p&#45;&gt;responses -->\n",
       "<g id=\"edge3\" class=\"edge\">\n",
       "<title>p&#45;&gt;responses</title>\n",
       "<path fill=\"none\" stroke=\"black\" d=\"M123,-161.34C123,-153.84 123,-145.53 123,-137.23\"/>\n",
       "<polygon fill=\"black\" stroke=\"black\" points=\"126.5,-137.51 123,-127.51 119.5,-137.51 126.5,-137.51\"/>\n",
       "</g>\n",
       "</g>\n",
       "</svg>\n"
      ],
      "text/plain": [
       "<graphviz.graphs.Digraph at 0x7f144550c310>"
      ]
     },
     "execution_count": 7,
     "metadata": {},
     "output_type": "execute_result"
    }
   ],
   "source": [
    "# Visualización del grafo del modelo y muestreo posterior\n",
    "pm.model_to_graphviz(irt_1pl_coords)"
   ]
  },
  {
   "cell_type": "code",
   "execution_count": 8,
   "id": "8a3f4f67",
   "metadata": {},
   "outputs": [
    {
     "name": "stderr",
     "output_type": "stream",
     "text": [
      "Auto-assigning NUTS sampler...\n",
      "Initializing NUTS using jitter+adapt_diag...\n",
      "Initializing NUTS using jitter+adapt_diag...\n",
      "Multiprocess sampling (2 chains in 4 jobs)\n",
      "NUTS: [theta, b]\n",
      "Multiprocess sampling (2 chains in 4 jobs)\n",
      "NUTS: [theta, b]\n"
     ]
    },
    {
     "data": {
      "text/html": [
       "\n",
       "<style>\n",
       "    /* Turns off some styling */\n",
       "    progress {\n",
       "        /* gets rid of default border in Firefox and Opera. */\n",
       "        border: none;\n",
       "        /* Needs to be in here for Safari polyfill so background images work as expected. */\n",
       "        background-size: auto;\n",
       "    }\n",
       "    progress:not([value]), progress:not([value])::-webkit-progress-bar {\n",
       "        background: repeating-linear-gradient(45deg, #7e7e7e, #7e7e7e 10px, #5c5c5c 10px, #5c5c5c 20px);\n",
       "    }\n",
       "    .progress-bar-interrupted, .progress-bar-interrupted::-webkit-progress-bar {\n",
       "        background: #F44336;\n",
       "    }\n",
       "</style>\n"
      ],
      "text/plain": [
       "<IPython.core.display.HTML object>"
      ]
     },
     "metadata": {},
     "output_type": "display_data"
    },
    {
     "data": {
      "text/html": [
       "\n",
       "    <div>\n",
       "      <progress value='4000' class='' max='4000' style='width:300px; height:20px; vertical-align: middle;'></progress>\n",
       "      100.00% [4000/4000 03:23&lt;00:00 Sampling 2 chains, 0 divergences]\n",
       "    </div>\n",
       "    "
      ],
      "text/plain": [
       "<IPython.core.display.HTML object>"
      ]
     },
     "metadata": {},
     "output_type": "display_data"
    },
    {
     "name": "stderr",
     "output_type": "stream",
     "text": [
      "Sampling 2 chains for 1_000 tune and 1_000 draw iterations (2_000 + 2_000 draws total) took 203 seconds.\n",
      "We recommend running at least 4 chains for robust computation of convergence diagnostics\n",
      "The rhat statistic is larger than 1.01 for some parameters. This indicates problems during sampling. See https://arxiv.org/abs/1903.08008 for details\n",
      "We recommend running at least 4 chains for robust computation of convergence diagnostics\n",
      "The rhat statistic is larger than 1.01 for some parameters. This indicates problems during sampling. See https://arxiv.org/abs/1903.08008 for details\n"
     ]
    }
   ],
   "source": [
    "with irt_1pl_coords:\n",
    "    trace_coords = pm.sample(1000, tune=1000, target_accept=0.95, chains=2, random_seed=RANDOM_SEED)"
   ]
  },
  {
   "cell_type": "markdown",
   "id": "6ca9a636",
   "metadata": {},
   "source": [
    "## 6. Comparación de estimaciones\n",
    "\n",
    "Comparamos las estimaciones clásicas y bayesianas con los valores verdaderos."
   ]
  },
  {
   "cell_type": "code",
   "execution_count": 10,
   "id": "a7334c2a",
   "metadata": {},
   "outputs": [
    {
     "name": "stdout",
     "output_type": "stream",
     "text": [
      "Correlación Bayes vs. Verdadero: 0.9966158645927539\n"
     ]
    },
    {
     "data": {
      "image/png": "[encoded data removed]",
      "text/plain": [
       "<Figure size 800x400 with 1 Axes>"
      ]
     },
     "metadata": {},
     "output_type": "display_data"
    }
   ],
   "source": [
    "# Extraer estimaciones bayesianas\n",
    "t_bayes = trace_coords.posterior['b'].mean(dim=(\"chain\", \"draw\")).values\n",
    "print(\"Correlación Bayes vs. Verdadero:\", np.corrcoef(t_bayes, item_difficulties)[0,1])\n",
    "\n",
    "# Comparación visual\n",
    "plt.figure(figsize=(8,4))\n",
    "plt.scatter(item_difficulties, mle_b, label=\"MLE\", alpha=0.7)\n",
    "plt.scatter(item_difficulties, t_bayes, label=\"Bayes\", alpha=0.7)\n",
    "plt.plot(item_difficulties, item_difficulties, 'k--', label=\"Ideal\")\n",
    "plt.xlabel(\"Dificultad Verdadera\")\n",
    "plt.ylabel(\"Estimación\")\n",
    "plt.legend()\n",
    "plt.title(\"Comparación de estimaciones de dificultad\")\n",
    "plt.show()"
   ]
  },
  {
   "cell_type": "code",
   "execution_count": null,
   "id": "7091c585",
   "metadata": {},
   "outputs": [
    {
     "name": "stdout",
     "output_type": "stream",
     "text": [
      "Coeficiente de determinación (R²) de MLE: 0.9929\n",
      "Coeficiente de determinación (R²) de Bayes: 0.9923\n"
     ]
    }
   ],
   "source": [
    "print(f\"Coeficiente de determinación (R²) de MLE: {r2_score(mle_b, item_difficulties):.4f}\")\n",
    "print(f\"Coeficiente de determinación (R²) de Bayes: {r2_score(t_bayes, item_difficulties):.4f}\")"
   ]
  },
  {
   "cell_type": "code",
   "execution_count": 20,
   "id": "b836320c",
   "metadata": {},
   "outputs": [
    {
     "name": "stdout",
     "output_type": "stream",
     "text": [
      "MAE MLE: 0.0618\n",
      "MAE Bayes: 0.0640\n"
     ]
    }
   ],
   "source": [
    "mae_mle = np.mean(np.abs(mle_b - item_difficulties))\n",
    "mae_bayes = np.mean(np.abs(t_bayes - item_difficulties))\n",
    "print(f\"MAE MLE: {mae_mle:.4f}\")\n",
    "print(f\"MAE Bayes: {mae_bayes:.4f}\")"
   ]
  },
  {
   "cell_type": "markdown",
   "id": "2d1876b9",
   "metadata": {},
   "source": [
    "## 7. Conclusiones\n",
    "\n",
    "Se han comparado los métodos clásico y bayesiano para estimar dificultades en el modelo 1PL, mostrando la recuperación de parámetros bajo simulación controlada."
   ]
  }
 ],
 "metadata": {
  "kernelspec": {
   "display_name": "analisis-calidad-estimacion-1pl-bayesiana",
   "language": "python",
   "name": "python3"
  },
  "language_info": {
   "codemirror_mode": {
    "name": "ipython",
    "version": 3
   },
   "file_extension": ".py",
   "mimetype": "text/x-python",
   "name": "python",
   "nbconvert_exporter": "python",
   "pygments_lexer": "ipython3",
   "version": "3.11.10"
  }
 },
 "nbformat": 4,
 "nbformat_minor": 5
}
